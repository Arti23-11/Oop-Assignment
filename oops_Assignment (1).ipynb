{
  "nbformat": 4,
  "nbformat_minor": 0,
  "metadata": {
    "colab": {
      "provenance": []
    },
    "kernelspec": {
      "name": "python3",
      "display_name": "Python 3"
    },
    "language_info": {
      "name": "python"
    }
  },
  "cells": [
    {
      "cell_type": "markdown",
      "source": [
        "**THEORY QUESTIONS**"
      ],
      "metadata": {
        "id": "wwnF8btY5lGH"
      }
    },
    {
      "cell_type": "markdown",
      "source": [
        "Q1.**What is Object-Oriented Programming (OOP)?**\n",
        "\n",
        "Ans. Object-Oriented Programming (OOP) in Python is a programming paradigm that structures code around the concept of \"objects,\" which are instances of \"classes.\" This approach aims to model real-world entities and their interactions, leading to more organized, reusable, and maintainable code.\n",
        "\n",
        "\n",
        "Q2. **What is a class in OOP?**\n",
        "\n",
        "Ans. Consider a Car class. This class would define common attributes like make, model, color, and year, and common behaviors like start(), stop(), and accelerate(). You can then create multiple Car objects (e.g., myHonda, yourTesla), each with its own specific values for these attributes, but all sharing the defined behaviors.\n",
        "\n",
        "\n",
        "Q3. **What is an object in OOP?**\n",
        "\n",
        "Ans. In Object-Oriented Programming (OOP) in Python, an object is an instance of a class. A class acts as a blueprint or a template, defining the structure and behavior (data and methods) that objects created from it will possess.\n",
        "\n",
        "Q4.**What is the difference between abstraction and encapsulation?**\n",
        "\n",
        "\n",
        "Ans. **ABSTRACTION**\n",
        " Abstraction focuses on what an object does, providing a simplified, high-level view of its functionality while hiding complex implementation details. It emphasizes essential features and behaviors relevant to a specific context, allowing users to interact with an object without needing to understand its internal workings. Abstraction is often achieved through abstract classes and interfaces.\n",
        "\n",
        " ENCAPSULATION **bold text**\n",
        " Encapsulation focuses on how an object's data and methods are bundled together within a single unit (typically a class) and how their access is controlled. It hides the internal state of an object and exposes only a controlled interface for interaction, preventing direct manipulation of data and ensuring data integrity. Encapsulation is achieved through access modifiers (e.g., private, public, protected).\n",
        "\n",
        " **Q5. What are dunder methods in Python?**\n",
        "\n",
        " Ans. Dunder methods, also known as magic methods, are special methods in Python that have double underscores at both the beginning and end of their names (e.g., __init__, __add__). The term \"dunder\" is a contraction of \"double underscore.\"\n",
        "\n",
        "\n",
        " Q6. **Explain the concept of inheritance in OOP.**\n",
        "\n",
        " ANS.  inheritance is a fundamental mechanism that allows a new class (called the derived class, subclass, or child class) to acquire the properties (attributes) and behaviors (methods) of an existing class (called the base class, superclass, or parent class).\n",
        "\n",
        "\n",
        "This concept promotes code reusability and establishes a hierarchical \"is-a\" relationship between classes. For example, a Dog \"is a\" Animal, so the Dog class can inherit common Animal attributes like name and age, and methods like eat() and sleep(), while also adding its own specific behaviors like bark().\n",
        "\n",
        "Q7.**What is polymorphism in OOP?**\n",
        "\n",
        "ANS. Polymorphism, meaning \"many forms,\" is a core OOP concept allowing objects of different classes to be treated as objects of a common superclass, enabling a single interface to represent multiple underlying forms or behaviors. It's achieved primarily through method overloading (a single method with different parameter lists) and method overriding (a subclass providing its own implementation of a superclass method), making code flexible, reusable, and adaptable to new requirements.\n",
        "\n",
        "\n",
        "Q8.**How is encapsulation achieved in Python?**\n",
        "\n",
        "ANS. Python achieves encapsulation primarily throug:\n",
        "\n",
        ".Public Members: By default, all attributes and methods in a Python class are public. They can be accessed directly from outside the class using the dot operator.\n",
        "\n",
        ".Protected Members (Convention): A single leading underscore (_) before an attribute or method name conventionally indicates that it is intended for internal use within the class or its subclasses. While not strictly enforced by the interpreter, it serves as a strong signal to developers to avoid direct external access.\n",
        "\n",
        ".Private Members (Name Mangling): A double leading underscore (__) before an attribute or method name triggers name mangling by the Python interpreter. This means the name is transformed internally (e.g., __attribute becomes _ClassName__attribute), making it harder, though not impossible, to access directly from outside the class. This mechanism provides a stronger form of \"privacy\" compared to the single underscore convention.\n",
        "\n",
        "Q9.**What is a constructor in Python?**\n",
        "\n",
        "ANS. In Python, a constructor is a special method used to initialize an object when it is created from a class. It is automatically called when an instance of a class is instantiated. The primary purpose of a constructor is to set up the initial state of the object, which typically involves assigning values to its attributes.\n",
        "\n",
        "\n",
        "Q10.**What are class and static methods in Python?**\n",
        "\n",
        "ANS.** Class Methods**\n",
        "\n",
        "A class method is defined using the @classmethod decorator and takes the class itself as its first argument, conventionally named cls.\n",
        "\n",
        ".**Static Methods**\n",
        "\n",
        "A static method is defined using the @staticmethod decorator. It does not take self (instance) or cls (class) as its first argument.\n",
        "\n",
        "\n",
        "Q11. **What is method overloading in Python?**\n",
        "\n",
        "ANS. Method overloading in Python refers to the concept where a single method name can be used to perform different operations based on the number or type of arguments passed to it. Unlike some other object-oriented programming languages like Java or C++, Python does not support traditional method overloading where you define multiple methods with the same name but different argument signatures within a single class.\n",
        "\n",
        "Q12. **What is method overriding in OOP?**\n",
        "\n",
        "ANS. Method overriding in object-oriented programming is when a subclass provides a specific implementation of a method that is already defined in its superclass, allowing for polymorphism and code reuse. Essentially, the subclass redefines a method inherited from its parent, giving it a unique behavior while maintaining the same method signature (name and parameters).\n",
        "\n",
        "Q13 **What is a property decorator in Python?**\n",
        "\n",
        "ANS. The @property decorator in Python is a built-in feature that allows you to manage object attributes in a more controlled and \"Pythonic\" way. It essentially transforms a method into an attribute, enabling you to define custom logic for getting, setting, or deleting the value of an attribute without explicitly calling getter and setter methods.\n",
        "\n",
        "\n",
        "Q14. **Why is polymorphism important in OOP?**\n",
        "\n",
        "ANS. Polymorphism is important in OOP because it enables code reusability, flexibility, and scalability by allowing a single action or method to be performed in various ways by different objects. It promotes modular and organized code, making it easier to maintain, test, and extend by reducing redundancy and avoiding complex conditional statements. Polymorphism is a foundational concept that helps create true object-oriented systems by allowing diverse objects to share a common interface while retaining their unique implementations.\n",
        "\n",
        "\n",
        "Q15.**What is an abstract class in Python?**\n",
        "\n",
        "ANS. An abstract class in Python is a class that cannot be instantiated directly and serves as a blueprint for other classes. It is designed to be subclassed, and its primary purpose is to define a common interface or a set of rules that its subclasses must adhere to.\n",
        "\n",
        "\n",
        "Q16.**What are the advantages of OOP?**\n",
        "\n",
        "ANS. Object-Oriented Programming (OOP) provides benefits like modularity, reusability, scalability, easier maintenance and troubleshooting, improved security, and greater flexibility and productivity. These advantages stem from core OOP principles such as encapsulation (bundling data and methods), abstraction (hiding complexity), inheritance (reusing code), and polymorphism (allowing objects to take on multiple forms).\n",
        "\n",
        "\n",
        "\n",
        "Q17. **What is the difference between a class variable and an instance variable?**\n",
        "\n",
        "ANS. **INSTANCE VARIABLE**\n",
        "\n",
        "It is basically a class variable without a static modifier and is usually shared by all class instances. Across different objects, these variables can have different values. They are tied to a particular object instance of the class, therefore, the contents of an instance variable are totally independent of one object instance to others.\n",
        "\n",
        ".**CLASS VARIABLE**\n",
        "It is basically a static variable that can be declared anywhere at class level with static. Across different objects, these variables can have only one value. These variables are not tied to any particular object of the class, therefore, can share across all objects of the class.\n",
        "\n",
        "\n",
        "Q18.**What is multiple inheritance in Python?**\n",
        "\n",
        "ANS.Multiple inheritance in Python is a feature where a class can inherit attributes and methods from more than one parent class. This allows a child class to combine functionalities and characteristics from multiple sources.\n",
        "\n",
        "\n",
        "Q19.** Explain the purpose of ‘’__str__’ and ‘__repr__’ ‘ methods in Python?**\n",
        "\n",
        "ANS. **__str__ (for \"string\"):**\n",
        "\n",
        ". This method is designed to provide a human-readable string representation of an object.\n",
        "\n",
        ". It is called by the built-in str() function and implicitly when an object is printed using print().\n",
        "\n",
        ". The output should be easily understandable and suitable for display to end-users or for logging.\n",
        "\n",
        ". It can be a simplified representation and may not contain all the information necessary to recreate the object.\n",
        "\n",
        "**__repr__ (for \"representation\"):**\n",
        "\n",
        ". This method is designed to provide an unambiguous string representation of an object, primarily for developers and debugging.\n",
        "\n",
        ". It is called by the built-in repr() function and is the fallback when __str__ is not defined for a class. It is also used in interactive environments (like the Python REPL) when an object is evaluated without being explicitly printed.\n",
        "\n",
        ". The output should ideally be a valid Python expression that, when evaluated, could recreate the object (if feasible).\n",
        "\n",
        ". It prioritizes completeness and clarity for a programmer, even if it's less \"pretty\" than the __str__ output.\n",
        "\n",
        "\n",
        "Q20.**What is the significance of the ‘super()’ function in Python?**\n",
        "\n",
        "ANS. The super() function in Python is a built-in function that provides a way to access methods and attributes of a parent class (or superclass) from within a child class (or subclass) in an inheritance hierarchy. It returns a temporary proxy object that represents the parent class, allowing you to call its methods without explicitly naming the parent class.\n",
        "\n",
        "\n",
        "Q21. **What is the significance of the __del__ method in Python?**\n",
        "\n",
        "ANS. The __del__ method in Python, often referred to as a destructor, holds significance as a special method invoked by Python's garbage collector when an object is about to be destroyed. Its primary purpose is to allow an object to perform cleanup operations before its memory is reclaimed.\n",
        "\n",
        "Q22. **What is the difference between @staticmethod and @classmethod in Python?**\n",
        "\n",
        "ANS. **Static Methods**:\n",
        "\n",
        ". Decorator: Defined using the @staticmethod decorator.\n",
        "\n",
        ". First Argument: Do not receive any implicit first argument (neither self nor cls).\n",
        "\n",
        ". Access: Cannot access or modify class-level attributes or instance-level attributes directly. They are essentially regular functions that are logically grouped within a class, often serving as utility functions related to the class but independent of its state.\n",
        "\n",
        ".** Class Methods:**\n",
        "\n",
        ". Decorator: Defined using the @classmethod decorator.\n",
        "\n",
        ". First Argument: Automatically receive the class itself as their first argument, conventionally named cls.\n",
        "\n",
        ".Access: Can access and modify class-level attributes and call other class methods. They are typically used for factory methods (alternative constructors) or operations that affect the class state as a whole.\n",
        "\n",
        "\n",
        "Q23. **How does polymorphism work in Python with inheritance?**\n",
        "\n",
        "ANS. **Inheritance:**\n",
        "\n",
        ". A child class inherits methods and attributes from its parent class. This means the child class initially has the same methods as the parent.\n",
        "\n",
        "**Method Overriding:**\n",
        ".If a child class needs a different behavior for an inherited method, it can redefine that method with the same name. This redefinition in the child class is known as method overriding. When an instance of the child class calls that method, its own specific implementation is executed instead of the parent's.\n",
        "\n",
        ".** Polymorphic Behavior:**\n",
        "Because of method overriding, objects of different classes (a parent class and its child classes) can respond differently to the same method call. This means you can write code that interacts with objects through a common interface (the method name), and the specific behavior will depend on the actual type of the object at runtime.\n",
        "\n",
        "\n",
        "Q24.**What is method chaining in Python OOP?**\n",
        "\n",
        "ANS. Method chaining in Python Object-Oriented Programming (OOP) is a technique that enables calling multiple methods on an object in a single, continuous line of code. This is achieved by having each method return the object itself (or a modified version of it), thereby allowing the next method in the chain to be invoked on the same object.\n",
        "\n",
        "\n",
        "Q25. **What is the purpose of the __call__ method in Python?**\n",
        "\n",
        "ANS. The purpose of the __call__ method in Python is to make instances of a class callable, meaning they can be invoked like functions.\n"
      ],
      "metadata": {
        "id": "fIL2IRdOu-Le"
      }
    },
    {
      "cell_type": "markdown",
      "source": [
        "**PRACTICAL QUESTIONS**"
      ],
      "metadata": {
        "id": "iJbaaWcq5S5d"
      }
    },
    {
      "cell_type": "markdown",
      "source": [
        "Q1.Create a parent class Animal with a method speak() that prints a generic message. Create a child class Dog\n",
        "that overrides the speak() method to print \"Bark!"
      ],
      "metadata": {
        "id": "kLK-kB7r5chJ"
      }
    },
    {
      "cell_type": "code",
      "metadata": {
        "colab": {
          "base_uri": "https://localhost:8080/"
        },
        "id": "42d525f8",
        "outputId": "1f5ea14f-c377-46bb-fd78-0304efdd970c"
      },
      "source": [
        "class Animal:\n",
        "    def speak(self):\n",
        "        print(\"Generic animal sound\")\n",
        "\n",
        "class Dog(Animal):\n",
        "    def speak(self):\n",
        "        print(\"Bark!\")\n",
        "\n",
        "animal = Animal()\n",
        "animal.speak()\n",
        "\n",
        "dog = Dog()\n",
        "dog.speak()"
      ],
      "execution_count": null,
      "outputs": [
        {
          "output_type": "stream",
          "name": "stdout",
          "text": [
            "Generic animal sound\n",
            "Bark!\n"
          ]
        }
      ]
    },
    {
      "cell_type": "markdown",
      "source": [
        "Q2. **Write a program to create an abstract class Shape with a method area(). Derive classes Circle and Rectangle\n",
        "from it and implement the area() method in both.**"
      ],
      "metadata": {
        "id": "HKF2k_NA9JGD"
      }
    },
    {
      "cell_type": "code",
      "source": [
        "import abc\n",
        "\n",
        "class Shape(abc.ABC):\n",
        "\n",
        "    @abc.abstractmethod\n",
        "    def calculate_area(self):\n",
        "        pass\n",
        "\n",
        "class Rectangle(Shape):\n",
        "    def __init__(self, length, breadth):\n",
        "        self.length = length\n",
        "        self.breadth = breadth\n",
        "\n",
        "    def calculate_area(self):\n",
        "        return self.length * self.breadth\n",
        "\n",
        "class Circle(Shape):\n",
        "    def __init__(self, radius):\n",
        "        self.radius = radius\n",
        "\n",
        "    def calculate_area(self):\n",
        "        return 3.14 * self.radius * self.radius\n",
        "\n",
        "rectangle = Rectangle(5, 10)\n",
        "print(f\"Area of rectangle: {rectangle.calculate_area()}\")\n",
        "\n",
        "circle = Circle(7)\n",
        "print(f\"Area of circle: {circle.calculate_area()}\")"
      ],
      "metadata": {
        "colab": {
          "base_uri": "https://localhost:8080/"
        },
        "id": "9J6hdBMg9IsN",
        "outputId": "7e4e5f0d-f8a1-4e0f-ac1f-3640bad67b0d"
      },
      "execution_count": null,
      "outputs": [
        {
          "output_type": "stream",
          "name": "stdout",
          "text": [
            "Area of rectangle: 50\n",
            "Area of circle: 153.86\n"
          ]
        }
      ]
    },
    {
      "cell_type": "markdown",
      "source": [
        "Q3. Implement a multi-level inheritance scenario where a class Vehicle has an attribute type. Derive a class Car\n",
        "and further derive a class ElectricCar that adds a battery attribute."
      ],
      "metadata": {
        "id": "wFGnxvibE6op"
      }
    },
    {
      "cell_type": "code",
      "source": [
        "class Vehicle:\n",
        "    def __init__(self, vehicle_type):\n",
        "        self.type = vehicle_type\n",
        "\n",
        "    def vehicle_info(self):\n",
        "        print(f\"Inside Vehicle class, Type: {self.type}\")\n",
        "\n",
        "class Car(Vehicle):\n",
        "    def __init__(self, vehicle_type, model):\n",
        "        super().__init__(vehicle_type)\n",
        "        self.model = model\n",
        "\n",
        "    def car_info(self):\n",
        "        print(f\"Inside Car class, Model: {self.model}\")\n",
        "\n",
        "class ElectricCar(Car):\n",
        "    def __init__(self, vehicle_type, model, battery_capacity):\n",
        "        super().__init__(vehicle_type, model)\n",
        "        self.battery = battery_capacity\n",
        "\n",
        "    def electric_car_info(self):\n",
        "        print(f\"Inside ElectricCar class, Battery Capacity: {self.battery}\")\n",
        "\n",
        "electric_car = ElectricCar(\"Car\", \"Tesla Model S\", 100)\n",
        "electric_car.vehicle_info()\n",
        "electric_car.car_info()\n",
        "electric_car.electric_car_info()"
      ],
      "metadata": {
        "id": "4YhrSyy_DP4D",
        "colab": {
          "base_uri": "https://localhost:8080/"
        },
        "outputId": "775ee73b-d922-42d8-8bd7-1f1da9a2157b"
      },
      "execution_count": null,
      "outputs": [
        {
          "output_type": "stream",
          "name": "stdout",
          "text": [
            "Inside Vehicle class, Type: Car\n",
            "Inside Car class, Model: Tesla Model S\n",
            "Inside ElectricCar class, Battery Capacity: 100\n"
          ]
        }
      ]
    },
    {
      "cell_type": "markdown",
      "source": [
        "Q4. Demonstrate polymorphism by creating a base class Bird with a method fly().\n",
        "Create two derived classes Sparrow and Penguin that override the fly() method"
      ],
      "metadata": {
        "id": "g3YG-OZQcoew"
      }
    },
    {
      "cell_type": "code",
      "metadata": {
        "colab": {
          "base_uri": "https://localhost:8080/"
        },
        "id": "b58c1452",
        "outputId": "6a194af1-9589-4738-91f8-177fda510574"
      },
      "source": [
        "class Bird:\n",
        "    def fly(self):\n",
        "        print(\"Birds can fly\")\n",
        "\n",
        "class Sparrow(Bird):\n",
        "    def fly(self):\n",
        "        print(\"Sparrows can fly at moderate speeds\")\n",
        "\n",
        "class Penguin(Bird):\n",
        "    def fly(self):\n",
        "        print(\"Penguins cannot fly\")\n",
        "\n",
        "# Demonstrate polymorphism\n",
        "bird1 = Sparrow()\n",
        "bird2 = Penguin()\n",
        "\n",
        "bird1.fly()\n",
        "bird2.fly()"
      ],
      "execution_count": 2,
      "outputs": [
        {
          "output_type": "stream",
          "name": "stdout",
          "text": [
            "Sparrows can fly at moderate speeds\n",
            "Penguins cannot fly\n"
          ]
        }
      ]
    },
    {
      "cell_type": "markdown",
      "source": [
        "Q5.Write a program to demonstrate encapsulation by creating a class BankAccount with private attributes\n",
        "balance and methods to deposit, withdraw, and check balance."
      ],
      "metadata": {
        "id": "zi3VZ5qsdVRF"
      }
    },
    {
      "cell_type": "code",
      "metadata": {
        "colab": {
          "base_uri": "https://localhost:8080/"
        },
        "id": "fff6cb8d",
        "outputId": "b393c563-a12f-4d43-c5b6-d6e715994fa0"
      },
      "source": [
        "class BankAccount:\n",
        "    def __init__(self, balance):\n",
        "        self.__balance = balance # Private attribute\n",
        "\n",
        "    def deposit(self, amount):\n",
        "        if amount > 0:\n",
        "            self.__balance += amount\n",
        "            print(f\"Deposited: {amount}. New balance: {self.__balance}\")\n",
        "        else:\n",
        "            print(\"Deposit amount must be positive.\")\n",
        "\n",
        "    def withdraw(self, amount):\n",
        "        if amount > 0:\n",
        "            if self.__balance >= amount:\n",
        "                self.__balance -= amount\n",
        "                print(f\"Withdrew: {amount}. New balance: {self.__balance}\")\n",
        "            else:\n",
        "                print(\"Insufficient funds.\")\n",
        "        else:\n",
        "            print(\"Withdrawal amount must be positive.\")\n",
        "\n",
        "    def get_balance(self):\n",
        "        return self.__balance\n",
        "\n",
        "# Demonstrate encapsulation\n",
        "account = BankAccount(1000)\n",
        "\n",
        "account.deposit(500)\n",
        "account.withdraw(200)\n",
        "account.withdraw(2000) # Insufficient funds\n",
        "print(f\"Current balance: {account.get_balance()}\")\n",
        "\n",
        "# Trying to access the private attribute directly (will raise an error or be name-mangled)\n",
        "# print(account.__balance)"
      ],
      "execution_count": 3,
      "outputs": [
        {
          "output_type": "stream",
          "name": "stdout",
          "text": [
            "Deposited: 500. New balance: 1500\n",
            "Withdrew: 200. New balance: 1300\n",
            "Insufficient funds.\n",
            "Current balance: 1300\n"
          ]
        }
      ]
    },
    {
      "cell_type": "markdown",
      "source": [
        "Q6. Demonstrate runtime polymorphism using a method play() in a base class Instrument. Derive classes Guitar\n",
        "and Piano that implement their own version of play()."
      ],
      "metadata": {
        "id": "O8ioR2hxduKw"
      }
    },
    {
      "cell_type": "code",
      "metadata": {
        "colab": {
          "base_uri": "https://localhost:8080/"
        },
        "id": "2be9f356",
        "outputId": "d6021170-51ff-48d0-de61-f73fe763a5e6"
      },
      "source": [
        "class Instrument:\n",
        "    def play(self):\n",
        "        print(\"Playing an instrument\")\n",
        "\n",
        "class Guitar(Instrument):\n",
        "    def play(self):\n",
        "        print(\"Strumming the guitar\")\n",
        "\n",
        "class Piano(Instrument):\n",
        "    def play(self):\n",
        "        print(\"Playing the piano keys\")\n",
        "\n",
        "# Demonstrate runtime polymorphism\n",
        "def make_instrument_play(instrument):\n",
        "    instrument.play()\n",
        "\n",
        "guitar = Guitar()\n",
        "piano = Piano()\n",
        "\n",
        "make_instrument_play(guitar)\n",
        "make_instrument_play(piano)"
      ],
      "execution_count": 4,
      "outputs": [
        {
          "output_type": "stream",
          "name": "stdout",
          "text": [
            "Strumming the guitar\n",
            "Playing the piano keys\n"
          ]
        }
      ]
    },
    {
      "cell_type": "markdown",
      "source": [
        "Q7. Create a class MathOperations with a class method add_numbers() to add two numbers and a static\n",
        "method subtract_numbers() to subtract two numbers."
      ],
      "metadata": {
        "id": "UbyseJnbd8xd"
      }
    },
    {
      "cell_type": "code",
      "metadata": {
        "colab": {
          "base_uri": "https://localhost:8080/"
        },
        "id": "0c0cb590",
        "outputId": "6763cd5d-3177-4945-ec33-270c43e802b1"
      },
      "source": [
        "class MathOperations:\n",
        "    @classmethod\n",
        "    def add_numbers(cls, x, y):\n",
        "        return x + y\n",
        "\n",
        "    @staticmethod\n",
        "    def subtract_numbers(x, y):\n",
        "        return x - y\n",
        "\n",
        "# Demonstrate the methods\n",
        "print(f\"Sum: {MathOperations.add_numbers(10, 5)}\")\n",
        "print(f\"Difference: {MathOperations.subtract_numbers(10, 5)}\")"
      ],
      "execution_count": 5,
      "outputs": [
        {
          "output_type": "stream",
          "name": "stdout",
          "text": [
            "Sum: 15\n",
            "Difference: 5\n"
          ]
        }
      ]
    },
    {
      "cell_type": "markdown",
      "source": [
        "Q8.  Implement a class Person with a class method to count the total number of persons created."
      ],
      "metadata": {
        "id": "X8UQDW7DePFl"
      }
    },
    {
      "cell_type": "code",
      "metadata": {
        "colab": {
          "base_uri": "https://localhost:8080/"
        },
        "id": "b4ef9dba",
        "outputId": "193733fc-5bf9-4e3a-c43e-945a77fc5ad1"
      },
      "source": [
        "class Person:\n",
        "    count = 0  # Class variable to keep track of the number of persons\n",
        "\n",
        "    def __init__(self, name):\n",
        "        self.name = name\n",
        "        Person.count += 1  # Increment the count when a new person is created\n",
        "\n",
        "    @classmethod\n",
        "    def get_person_count(cls):\n",
        "        return cls.count\n",
        "\n",
        "# Demonstrate the class method\n",
        "person1 = Person(\"Alice\")\n",
        "person2 = Person(\"Bob\")\n",
        "person3 = Person(\"Charlie\")\n",
        "\n",
        "print(f\"Total number of persons created: {Person.get_person_count()}\")"
      ],
      "execution_count": 6,
      "outputs": [
        {
          "output_type": "stream",
          "name": "stdout",
          "text": [
            "Total number of persons created: 3\n"
          ]
        }
      ]
    },
    {
      "cell_type": "markdown",
      "source": [
        "Q9. Write a class Fraction with attributes numerator and denominator. Override the str method to display the\n",
        "fraction as \"numerator/denominator\"."
      ],
      "metadata": {
        "id": "xIL22m7tedNP"
      }
    },
    {
      "cell_type": "code",
      "metadata": {
        "colab": {
          "base_uri": "https://localhost:8080/"
        },
        "id": "ac176d02",
        "outputId": "81004b21-d45a-4974-8539-40a3ef89e59b"
      },
      "source": [
        "class Fraction:\n",
        "    def __init__(self, numerator, denominator):\n",
        "        self.numerator = numerator\n",
        "        self.denominator = denominator\n",
        "\n",
        "    def __str__(self):\n",
        "        return f\"{self.numerator}/{self.denominator}\"\n",
        "\n",
        "# Demonstrate the Fraction class\n",
        "fraction = Fraction(3, 4)\n",
        "print(fraction)"
      ],
      "execution_count": 7,
      "outputs": [
        {
          "output_type": "stream",
          "name": "stdout",
          "text": [
            "3/4\n"
          ]
        }
      ]
    },
    {
      "cell_type": "markdown",
      "source": [
        "Q10.Demonstrate operator overloading by creating a class Vector and overriding the add method to add two\n",
        "vectors."
      ],
      "metadata": {
        "id": "vbLt1hGdeqY_"
      }
    },
    {
      "cell_type": "code",
      "metadata": {
        "id": "71e09d56"
      },
      "source": [
        "class Vector:\n",
        "    def __init__(self, x, y):\n",
        "        self.x = x\n",
        "        self.y = y\n",
        "\n",
        "    def __add__(self, other):\n",
        "        if isinstance(other, Vector):\n",
        "            return Vector(self.x + other.x, self.y + other.y)\n",
        "        else:\n",
        "            raise TypeError(\"Operand must be a Vector instance\")\n",
        "\n",
        "    def __str__(self):\n",
        "        return f\"Vector({self.x}, {self.y})\"\n",
        "\n",
        "# Demonstrate operator overloading\n",
        "vector1 = Vector(2, 3)\n",
        "vector2 = Vector(4, 5)\n",
        "\n",
        "vector3 = vector1 + vector2\n",
        "print(vector3)"
      ],
      "execution_count": null,
      "outputs": []
    },
    {
      "cell_type": "markdown",
      "source": [
        "Q11. Create a class Person with attributes name and age. Add a method greet() that prints \"Hello, my name is\n",
        "{name} and I am {age} years old.\"\n",
        "\n",
        "\n"
      ],
      "metadata": {
        "id": "Cfdqshtpe4Gd"
      }
    },
    {
      "cell_type": "code",
      "metadata": {
        "colab": {
          "base_uri": "https://localhost:8080/"
        },
        "id": "ca45e9e1",
        "outputId": "7815b910-c695-4bb6-fa9b-88d28cb22b39"
      },
      "source": [
        "class Person:\n",
        "    def __init__(self, name, age):\n",
        "        self.name = name\n",
        "        self.age = age\n",
        "\n",
        "    def greet(self):\n",
        "        print(f\"Hello, my name is {self.name} and I am {self.age} years old.\")\n",
        "\n",
        "# Demonstrate the Person class\n",
        "person = Person(\"Alice\", 30)\n",
        "person.greet()"
      ],
      "execution_count": 8,
      "outputs": [
        {
          "output_type": "stream",
          "name": "stdout",
          "text": [
            "Hello, my name is Alice and I am 30 years old.\n"
          ]
        }
      ]
    },
    {
      "cell_type": "markdown",
      "source": [
        "Q12.  Implement a class Student with attributes name and grades. Create a method average_grade() to compute\n",
        "the average of the grades."
      ],
      "metadata": {
        "id": "CSwYHCmRfH0y"
      }
    },
    {
      "cell_type": "code",
      "metadata": {
        "colab": {
          "base_uri": "https://localhost:8080/"
        },
        "id": "a6e787ab",
        "outputId": "9298ba39-4488-4ee0-a178-3f03a97b016a"
      },
      "source": [
        "class Student:\n",
        "    def __init__(self, name, grades):\n",
        "        self.name = name\n",
        "        self.grades = grades\n",
        "\n",
        "    def average_grade(self):\n",
        "        if not self.grades:\n",
        "            return 0\n",
        "        return sum(self.grades) / len(self.grades)\n",
        "\n",
        "# Demonstrate the Student class\n",
        "student = Student(\"Bob\", [85, 90, 78, 92])\n",
        "print(f\"{student.name}'s average grade is: {student.average_grade()}\")\n",
        "\n",
        "student_no_grades = Student(\"Alice\", [])\n",
        "print(f\"{student_no_grades.name}'s average grade is: {student_no_grades.average_grade()}\")"
      ],
      "execution_count": 9,
      "outputs": [
        {
          "output_type": "stream",
          "name": "stdout",
          "text": [
            "Bob's average grade is: 86.25\n",
            "Alice's average grade is: 0\n"
          ]
        }
      ]
    },
    {
      "cell_type": "markdown",
      "source": [
        "Q13. Create a class Rectangle with methods set_dimensions() to set the dimensions and area() to calculate the\n",
        "area."
      ],
      "metadata": {
        "id": "rRdyhjcwfSO9"
      }
    },
    {
      "cell_type": "code",
      "metadata": {
        "colab": {
          "base_uri": "https://localhost:8080/"
        },
        "id": "d26798d9",
        "outputId": "0172fabf-7024-49f0-9503-00ed7faa1b14"
      },
      "source": [
        "class Rectangle:\n",
        "    def __init__(self):\n",
        "        self.length = 0\n",
        "        self.width = 0\n",
        "\n",
        "    def set_dimensions(self, length, width):\n",
        "        self.length = length\n",
        "        self.width = width\n",
        "\n",
        "    def area(self):\n",
        "        return self.length * self.width\n",
        "\n",
        "# Demonstrate the Rectangle class\n",
        "rectangle = Rectangle()\n",
        "rectangle.set_dimensions(10, 5)\n",
        "print(f\"The area of the rectangle is: {rectangle.area()}\")"
      ],
      "execution_count": 10,
      "outputs": [
        {
          "output_type": "stream",
          "name": "stdout",
          "text": [
            "The area of the rectangle is: 50\n"
          ]
        }
      ]
    },
    {
      "cell_type": "markdown",
      "source": [
        "Q14.  Create a class Employee with a method calculate_salary() that computes the salary based on hours worked\n",
        "and hourly rate. Create a derived class Manager that adds a bonus to the salary."
      ],
      "metadata": {
        "id": "we8xx081fgIf"
      }
    },
    {
      "cell_type": "code",
      "metadata": {
        "colab": {
          "base_uri": "https://localhost:8080/"
        },
        "id": "88419b03",
        "outputId": "cd584f3d-8bcb-41b5-bf38-e03abb559eb8"
      },
      "source": [
        "class Employee:\n",
        "    def __init__(self, hours_worked, hourly_rate):\n",
        "        self.hours_worked = hours_worked\n",
        "        self.hourly_rate = hourly_rate\n",
        "\n",
        "    def calculate_salary(self):\n",
        "        return self.hours_worked * self.hourly_rate\n",
        "\n",
        "class Manager(Employee):\n",
        "    def __init__(self, hours_worked, hourly_rate, bonus):\n",
        "        super().__init__(hours_worked, hourly_rate)\n",
        "        self.bonus = bonus\n",
        "\n",
        "    def calculate_salary(self):\n",
        "        base_salary = super().calculate_salary()\n",
        "        return base_salary + self.bonus\n",
        "\n",
        "# Demonstrate the classes\n",
        "employee = Employee(40, 20)\n",
        "print(f\"Employee salary: {employee.calculate_salary()}\")\n",
        "\n",
        "manager = Manager(40, 20, 500)\n",
        "print(f\"Manager salary: {manager.calculate_salary()}\")"
      ],
      "execution_count": 11,
      "outputs": [
        {
          "output_type": "stream",
          "name": "stdout",
          "text": [
            "Employee salary: 800\n",
            "Manager salary: 1300\n"
          ]
        }
      ]
    },
    {
      "cell_type": "markdown",
      "source": [
        "Q15.  Create a class Product with attributes name, price, and quantity. Implement a method total_price() that\n",
        "calculates the total price of the product."
      ],
      "metadata": {
        "id": "Hl-V6th1f8f9"
      }
    },
    {
      "cell_type": "code",
      "metadata": {
        "colab": {
          "base_uri": "https://localhost:8080/"
        },
        "id": "00f6e8e6",
        "outputId": "e2a7cfd7-0f97-420b-d965-63593bd0bc02"
      },
      "source": [
        "class Product:\n",
        "    def __init__(self, name, price, quantity):\n",
        "        self.name = name\n",
        "        self.price = price\n",
        "        self.quantity = quantity\n",
        "\n",
        "    def total_price(self):\n",
        "        return self.price * self.quantity\n",
        "\n",
        "# Demonstrate the Product class\n",
        "product = Product(\"Laptop\", 1200, 2)\n",
        "print(f\"The total price of {product.name} is: {product.total_price()}\")"
      ],
      "execution_count": 12,
      "outputs": [
        {
          "output_type": "stream",
          "name": "stdout",
          "text": [
            "The total price of Laptop is: 2400\n"
          ]
        }
      ]
    },
    {
      "cell_type": "markdown",
      "source": [
        "Q16.  Create a class Animal with an abstract method sound(). Create two derived classes Cow and Sheep that\n",
        "implement the sound() method."
      ],
      "metadata": {
        "id": "n1BqEsVPgQ2p"
      }
    },
    {
      "cell_type": "code",
      "metadata": {
        "colab": {
          "base_uri": "https://localhost:8080/"
        },
        "id": "363c5cf6",
        "outputId": "163117bd-9a89-4285-e295-e5759980530e"
      },
      "source": [
        "import abc\n",
        "\n",
        "class Animal(abc.ABC):\n",
        "    @abc.abstractmethod\n",
        "    def sound(self):\n",
        "        pass\n",
        "\n",
        "class Cow(Animal):\n",
        "    def sound(self):\n",
        "        return \"Moo!\"\n",
        "\n",
        "class Sheep(Animal):\n",
        "    def sound(self):\n",
        "        return \"Baa!\"\n",
        "\n",
        "# Demonstrate the classes\n",
        "cow = Cow()\n",
        "sheep = Sheep()\n",
        "\n",
        "print(f\"Cow says: {cow.sound()}\")\n",
        "print(f\"Sheep says: {sheep.sound()}\")"
      ],
      "execution_count": 13,
      "outputs": [
        {
          "output_type": "stream",
          "name": "stdout",
          "text": [
            "Cow says: Moo!\n",
            "Sheep says: Baa!\n"
          ]
        }
      ]
    },
    {
      "cell_type": "markdown",
      "source": [
        "Q17. Create a class Book with attributes title, author, and year_published. Add a method get_book_info() that\n",
        "returns a formatted string with the book's details"
      ],
      "metadata": {
        "id": "USjlniSqgg1f"
      }
    },
    {
      "cell_type": "code",
      "metadata": {
        "colab": {
          "base_uri": "https://localhost:8080/"
        },
        "id": "437e1e13",
        "outputId": "23b6329b-a66b-42bc-8fa5-6ebcac9d3218"
      },
      "source": [
        "class Book:\n",
        "    def __init__(self, title, author, year_published):\n",
        "        self.title = title\n",
        "        self.author = author\n",
        "        self.year_published = year_published\n",
        "\n",
        "    def get_book_info(self):\n",
        "        return f\"Title: {self.title}, Author: {self.author}, Year Published: {self.year_published}\"\n",
        "\n",
        "# Demonstrate the Book class\n",
        "book = Book(\"The Hitchhiker's Guide to the Galaxy\", \"Douglas Adams\", 1979)\n",
        "print(book.get_book_info())"
      ],
      "execution_count": 14,
      "outputs": [
        {
          "output_type": "stream",
          "name": "stdout",
          "text": [
            "Title: The Hitchhiker's Guide to the Galaxy, Author: Douglas Adams, Year Published: 1979\n"
          ]
        }
      ]
    },
    {
      "cell_type": "markdown",
      "source": [
        "Q18. Create a class House with attributes address and price. Create a derived class Mansion that adds an\n",
        "attribute number_of_rooms."
      ],
      "metadata": {
        "id": "LWfOkI5Gg14W"
      }
    },
    {
      "cell_type": "code",
      "metadata": {
        "colab": {
          "base_uri": "https://localhost:8080/"
        },
        "id": "b0589444",
        "outputId": "b8de5d39-f633-4bb9-8734-a5328303ee26"
      },
      "source": [
        "class House:\n",
        "    def __init__(self, address, price):\n",
        "        self.address = address\n",
        "        self.price = price\n",
        "\n",
        "    def house_info(self):\n",
        "        print(f\"Address: {self.address}, Price: ${self.price}\")\n",
        "\n",
        "class Mansion(House):\n",
        "    def __init__(self, address, price, number_of_rooms):\n",
        "        super().__init__(address, price)\n",
        "        self.number_of_rooms = number_of_rooms\n",
        "\n",
        "    def mansion_info(self):\n",
        "        super().house_info()\n",
        "        print(f\"Number of Rooms: {self.number_of_rooms}\")\n",
        "\n",
        "# Demonstrate the classes\n",
        "house = House(\"123 Main St\", 300000)\n",
        "house.house_info()\n",
        "\n",
        "mansion = Mansion(\"456 Elm St\", 1500000, 20)\n",
        "mansion.mansion_info()"
      ],
      "execution_count": 15,
      "outputs": [
        {
          "output_type": "stream",
          "name": "stdout",
          "text": [
            "Address: 123 Main St, Price: $300000\n",
            "Address: 456 Elm St, Price: $1500000\n",
            "Number of Rooms: 20\n"
          ]
        }
      ]
    }
  ]
}